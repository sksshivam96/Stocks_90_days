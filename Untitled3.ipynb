{
  "nbformat": 4,
  "nbformat_minor": 0,
  "metadata": {
    "colab": {
      "name": "Untitled3.ipynb",
      "provenance": [],
      "collapsed_sections": []
    },
    "kernelspec": {
      "name": "python3",
      "display_name": "Python 3"
    },
    "language_info": {
      "name": "python"
    }
  },
  "cells": [
    {
      "cell_type": "code",
      "metadata": {
        "id": "N1BilAFMtD5p"
      },
      "source": [
        "pip install jugaad-data --quiet"
      ],
      "execution_count": 38,
      "outputs": []
    },
    {
      "cell_type": "code",
      "metadata": {
        "id": "RgMzAYNnFrmi"
      },
      "source": [
        "pip install XlsxWriter --quiet"
      ],
      "execution_count": 39,
      "outputs": []
    },
    {
      "cell_type": "code",
      "metadata": {
        "colab": {
          "base_uri": "https://localhost:8080/"
        },
        "id": "sFJk__bPtFle",
        "outputId": "405dde6a-b663-46bb-881e-d297bbd2f1d2"
      },
      "source": [
        "from jugaad_data.nse import NSELive\n",
        "n = NSELive()\n",
        "print(n)"
      ],
      "execution_count": 40,
      "outputs": [
        {
          "output_type": "stream",
          "name": "stdout",
          "text": [
            "<jugaad_data.nse.live.NSELive object at 0x7f1aa83a7b50>\n"
          ]
        }
      ]
    },
    {
      "cell_type": "code",
      "metadata": {
        "id": "bSwmVMbKtHFF"
      },
      "source": [
        "import zipfile\n",
        "\n",
        "\n",
        "DATADIR = \"/content/Archive (1).zip\"\n",
        "\n",
        "with zipfile.ZipFile(DATADIR, 'r') as zip_ref:\n",
        "    zip_ref.extractall(\"/content\")"
      ],
      "execution_count": 41,
      "outputs": []
    },
    {
      "cell_type": "code",
      "metadata": {
        "colab": {
          "base_uri": "https://localhost:8080/"
        },
        "id": "D5CVbOKCtQLU",
        "outputId": "d42b5abf-9374-4b6a-c9a5-dcc59621cbec"
      },
      "source": [
        "import pandas as pd\n",
        "\n",
        "Stocks_pth = \"List of Stocks case study (1) (3) (1) (1).xlsx\"\n",
        "Stocks = pd.read_excel(Stocks_pth)\n",
        "Stocks.head(2)\n",
        "Stocks.columns"
      ],
      "execution_count": 42,
      "outputs": [
        {
          "output_type": "execute_result",
          "data": {
            "text/plain": [
              "Index(['Stock Name                      ', 'SYMBOL    '], dtype='object')"
            ]
          },
          "metadata": {},
          "execution_count": 42
        }
      ]
    },
    {
      "cell_type": "code",
      "metadata": {
        "id": "lE4T4DaEtSGs"
      },
      "source": [
        "Symbols = Stocks[\"SYMBOL    \"]\n",
        "Stock_names = Stocks[\"Stock Name                      \"]"
      ],
      "execution_count": 43,
      "outputs": []
    },
    {
      "cell_type": "code",
      "metadata": {
        "colab": {
          "base_uri": "https://localhost:8080/"
        },
        "id": "Ilavwu4NtUil",
        "outputId": "33e6330e-b52e-4bd5-de89-bc712a206a1b"
      },
      "source": [
        "q = n.stock_quote(\"BHARTIARTL\")\n",
        "q['priceInfo']"
      ],
      "execution_count": 44,
      "outputs": [
        {
          "output_type": "execute_result",
          "data": {
            "text/plain": [
              "{'basePrice': 692.5,\n",
              " 'change': 1.8999999999999773,\n",
              " 'close': 695.5,\n",
              " 'intraDayHighLow': {'max': 699.55, 'min': 688.9, 'value': 694.4},\n",
              " 'lastPrice': 694.4,\n",
              " 'lowerCP': '623.25',\n",
              " 'open': 695.15,\n",
              " 'pChange': 0.27436823104692815,\n",
              " 'pPriceBand': 'No Band',\n",
              " 'previousClose': 692.5,\n",
              " 'upperCP': '761.75',\n",
              " 'vwap': 695.36,\n",
              " 'weekHighLow': {'max': 745.54,\n",
              "  'maxDate': '24-Sep-2021',\n",
              "  'min': 390.1,\n",
              "  'minDate': '19-Oct-2020',\n",
              "  'value': 694.4}}"
            ]
          },
          "metadata": {},
          "execution_count": 44
        }
      ]
    },
    {
      "cell_type": "code",
      "metadata": {
        "colab": {
          "base_uri": "https://localhost:8080/"
        },
        "id": "KLK7HbTttbxF",
        "outputId": "068a6bb4-f83a-4f93-be99-9f2a2626298b"
      },
      "source": [
        "  for i in range(len(list(Symbols))):\n",
        "    a =list(Symbols)[i].strip()\n",
        "    print(str(i)+ \" \" + a + \": \" +  str(n.stock_quote(a)[\"priceInfo\"][\"lastPrice\"]))"
      ],
      "execution_count": 45,
      "outputs": [
        {
          "output_type": "stream",
          "name": "stdout",
          "text": [
            "0 ACC: 2242.95\n",
            "1 ADANIPORTS: 738.75\n",
            "2 ADANIENT: 1546.85\n",
            "3 ADANIPOWER: 101.9\n",
            "4 AMBUJACEM: 403.2\n",
            "5 APOLLOHOSP: 4380\n",
            "6 ARVIND: 102.5\n",
            "7 ASIANPAINT: 3309.1\n",
            "8 AUROPHARMA: 715.7\n",
            "9 BAJFINANCE: 7730.5\n",
            "10 BALKRISIND: 2576\n",
            "11 BANKBARODA: 88.9\n",
            "12 BANKINDIA: 57.65\n",
            "13 BERGEPAINT: 830.65\n",
            "14 BHEL: 65.3\n",
            "15 BAJAJFINSV: 17560\n",
            "16 BOSCHLTD: 17700\n",
            "17 CADILAHC: 549.75\n",
            "18 CENTURYTEX: 935\n",
            "19 CHOLAFIN: 568.7\n",
            "20 CUMMINSIND: 882.65\n",
            "21 DIVISLAB: 5074\n",
            "22 DLF: 416.05\n",
            "23 ENGINERSIN: 78\n",
            "24 EQUITAS: 122.1\n",
            "25 ESCORTS: 1506.1\n",
            "26 FEDERALBNK: 85.4\n",
            "27 GODREJCP: 1020.35\n",
            "28 GRASIM: 1600\n",
            "29 HAVELLS: 1373.6\n",
            "30 HCLTECH: 1323.5\n",
            "31 BSOFT: 435.65\n",
            "32 HDFCBANK: 1607\n",
            "33 HEXAWARE: 0\n",
            "34 HINDPETRO: 318.6\n",
            "35 CANBK: 178.4\n",
            "36 HINDZINC: 315\n",
            "37 IDEA: 11.45\n",
            "38 IDFCFIRSTB: 48\n",
            "39 CASTROLIND: 142.85\n",
            "40 INDIGO: 1963.45\n",
            "41 INDUSINDBK: 1172.75\n",
            "42 INFY: 1723.85\n",
            "43 IOC: 131.8\n",
            "44 DHFL: 0\n",
            "45 ITC: 231.9\n",
            "46 JINDALSTEL: 416.3\n",
            "47 EICHERMOT: 2817.45\n",
            "48 JSWSTEEL: 665.3\n",
            "49 JUBLFOOD: 4008.7\n",
            "50 JUSTDIAL: 1002\n",
            "51 KOTAKBANK: 1939\n",
            "52 EXIDEIND: 184.75\n",
            "53 L&TFH: 90.75\n",
            "54 LUPIN: 947\n",
            "55 M&M: 877\n",
            "56 GLENMARK: 526.55\n",
            "57 MARICO: 563.8\n",
            "58 MCDOWELL-N: 913\n",
            "59 MCX: 1927\n",
            "60 MOTHERSUMI: 236.7\n",
            "61 MRF: 85725.95\n",
            "62 MUTHOOTFIN: 1520\n",
            "63 NATIONALUM: 96.2\n",
            "64 NCC: 83.15\n",
            "65 ICICIPRULI: 660.5\n",
            "66 NESTLEIND: 19025\n",
            "67 NTPC: 140.95\n",
            "68 ONGC: 161.15\n",
            "69 PAGEIND: 36601\n",
            "70 AIRTEL-RE: 208\n",
            "71 PFC: 139.7\n",
            "72 PIDILITIND: 2441.4\n",
            "73 PNB: 40.45\n",
            "74 RAMCOCEM: 995.35\n",
            "75 RAYMOND: 467.4\n",
            "76 RECLTD: 157.6\n",
            "77 RELCAPITAL: 23.4\n",
            "78 RELIANCE: 2669.2\n",
            "79 SAIL: 116.75\n",
            "80 SIEMENS: 2227.8\n",
            "81 SRF: 11958.9\n",
            "82 SRTRANSFIN: 1331\n",
            "83 STAR: 585.25\n",
            "84 TATACONSUM: 818\n",
            "85 TATAPOWER: 177.5\n",
            "86 TCS: 3943\n",
            "87 MGL: 1067\n",
            "88 TECHM: 1440\n",
            "89 MINDTREE: 4456\n",
            "90 TORNTPOWER: 504.8\n",
            "91 UBL: 1651.5\n",
            "92 UJJIVAN: 153.4\n",
            "93 UNIONBANK: 37.65\n",
            "94 UPL: 736.7\n",
            "95 VEDL: 294.3\n",
            "96 VOLTAS: 1280.05\n",
            "97 WIPRO: 661.95\n",
            "98 YESBANK: 13.25\n",
            "99 AMARAJABAT: 758\n",
            "100 NIITLTD: 360\n",
            "101 RELINFRA: 104.55\n",
            "102 APOLLOTYRE: 234.2\n",
            "103 AXISBANK: 781.7\n",
            "104 TITAN: 2355.45\n",
            "105 ASHOKLEY: 135\n",
            "106 BAJAJ-AUTO: 3818\n",
            "107 BATAINDIA: 1959\n",
            "108 BEL: 200\n",
            "109 BHARATFORG: 760.8\n",
            "110 BIOCON: 358.7\n",
            "111 BPCL: 449.65\n",
            "112 BRITANNIA: 3884\n",
            "113 CESC: 89.2\n",
            "114 CIPLA: 916.95\n",
            "115 COALINDIA: 187.7\n",
            "116 DABUR: 607.4\n",
            "117 DISHTV: 19.65\n",
            "118 GAIL: 158.05\n",
            "119 GMRINFRA: 39.35\n",
            "120 HDFC: 2726\n",
            "121 HEROMOTOCO: 2842\n",
            "122 CONCOR: 686.75\n",
            "123 HINDALCO: 474.1\n",
            "124 DRREDDY: 4855\n",
            "125 HINDUNILVR: 2645.95\n",
            "126 IBULHSGFIN: 240.2\n",
            "127 IDBI: 48.15\n",
            "128 IGL: 519\n",
            "129 MANAPPURAM: 193.2\n",
            "130 MFSL: 998.9\n",
            "131 M&MFIN: 184.9\n",
            "132 MARUTI: 7409.3\n",
            "133 OFSS: 4790\n",
            "134 NMDC: 145.2\n",
            "135 OIL: 239.95\n",
            "136 POWERGRID: 188.1\n",
            "137 RBLBANK: 193.5\n",
            "138 SHREECEM: 27755\n",
            "139 SUNPHARMA: 819.9\n",
            "140 TATASTEEL: 1302.8\n",
            "141 TATAELXSI: 6250\n",
            "142 TORNTPHARM: 3078\n",
            "143 TVSMOTOR: 558.7\n",
            "144 ULTRACEMCO: 7351.9\n",
            "145 ZEEL: 297\n",
            "146 COLPAL: 1688\n",
            "147 ICICIBANK: 704.05\n",
            "148 LICHSGFIN: 442\n",
            "149 SBIN: 460.05\n",
            "150 BHARTIARTL: 694.4\n",
            "151 LT: 1729.1\n",
            "152 NBCC: 47\n",
            "153 KAJARIACER: 1237.4\n",
            "154 PEL: 2736\n",
            "155 PETRONET: 228\n",
            "156 PVR: 1693.1\n",
            "157 TATACHEM: 965.4\n",
            "158 TATAMOTORS: 382.8\n",
            "159 TATAMTRDVR: 191.25\n",
            "160 SUNTV: 541\n"
          ]
        }
      ]
    },
    {
      "cell_type": "code",
      "metadata": {
        "id": "H_21PZdE3VEG"
      },
      "source": [
        "from xlwt.Workbook import *"
      ],
      "execution_count": 46,
      "outputs": []
    },
    {
      "cell_type": "code",
      "metadata": {
        "colab": {
          "base_uri": "https://localhost:8080/",
          "height": 1000
        },
        "id": "pK5QhbQ_uUi1",
        "outputId": "4f739dc3-9dc1-4480-ea67-53eac4ce72b5"
      },
      "source": [
        "from datetime import date\n",
        "from jugaad_data.nse import stock_csv, stock_df\n",
        "import time\n",
        "\n",
        "\n",
        "# Download stock data to pandas dataframe\n",
        "from jugaad_data.nse import stock_df\n",
        "x=0 \n",
        "writer = pd.ExcelWriter('multiple.xlsx', engine='xlsxwriter',date_format='mmmm dd yyyy')\n",
        "\n",
        "\n",
        "for i in range(len(list(Symbols))):\n",
        "    a = list(Symbols)[i].strip()\n",
        "    string = a\n",
        "    df = stock_df(symbol=a, from_date=date(2020,6,4),\n",
        "            to_date=date(2020,10,7), series=\"EQ\")\n",
        "    time.sleep(1)\n",
        "    print(a)\n",
        "    stonks = df\n",
        "    if i == 70:\n",
        "      i = 80\n",
        "      continue\n",
        "    stonks = stonks.drop(labels=['SERIES', 'OPEN', 'HIGH', 'LOW', 'PREV. CLOSE', 'LTP', 'VWAP', '52W H', '52W L', 'VOLUME', 'VALUE', 'NO OF TRADES', 'SYMBOL'], axis=1)\n",
        "    stonks.to_excel(writer, sheet_name=a)\n",
        "    \n",
        "    print(x)\n",
        "    x = x+1\n",
        "writer.save()"
      ],
      "execution_count": 48,
      "outputs": [
        {
          "output_type": "stream",
          "name": "stdout",
          "text": [
            "ACC\n",
            "0\n",
            "ADANIPORTS\n",
            "1\n",
            "ADANIENT\n",
            "2\n",
            "ADANIPOWER\n",
            "3\n",
            "AMBUJACEM\n",
            "4\n",
            "APOLLOHOSP\n",
            "5\n",
            "ARVIND\n",
            "6\n",
            "ASIANPAINT\n",
            "7\n",
            "AUROPHARMA\n",
            "8\n",
            "BAJFINANCE\n",
            "9\n",
            "BALKRISIND\n",
            "10\n",
            "BANKBARODA\n",
            "11\n",
            "BANKINDIA\n",
            "12\n",
            "BERGEPAINT\n",
            "13\n",
            "BHEL\n",
            "14\n",
            "BAJAJFINSV\n",
            "15\n",
            "BOSCHLTD\n",
            "16\n",
            "CADILAHC\n",
            "17\n",
            "CENTURYTEX\n",
            "18\n",
            "CHOLAFIN\n",
            "19\n",
            "CUMMINSIND\n",
            "20\n",
            "DIVISLAB\n",
            "21\n",
            "DLF\n",
            "22\n",
            "ENGINERSIN\n",
            "23\n",
            "EQUITAS\n",
            "24\n",
            "ESCORTS\n",
            "25\n",
            "FEDERALBNK\n",
            "26\n",
            "GODREJCP\n",
            "27\n",
            "GRASIM\n",
            "28\n",
            "HAVELLS\n",
            "29\n",
            "HCLTECH\n",
            "30\n",
            "BSOFT\n",
            "31\n",
            "HDFCBANK\n",
            "32\n",
            "HEXAWARE\n",
            "33\n",
            "HINDPETRO\n",
            "34\n",
            "CANBK\n",
            "35\n",
            "HINDZINC\n",
            "36\n",
            "IDEA\n",
            "37\n",
            "IDFCFIRSTB\n",
            "38\n",
            "CASTROLIND\n",
            "39\n",
            "INDIGO\n",
            "40\n",
            "INDUSINDBK\n",
            "41\n",
            "INFY\n",
            "42\n",
            "IOC\n",
            "43\n",
            "DHFL\n",
            "44\n",
            "ITC\n",
            "45\n",
            "JINDALSTEL\n",
            "46\n",
            "EICHERMOT\n",
            "47\n",
            "JSWSTEEL\n",
            "48\n",
            "JUBLFOOD\n",
            "49\n",
            "JUSTDIAL\n",
            "50\n",
            "KOTAKBANK\n",
            "51\n",
            "EXIDEIND\n",
            "52\n",
            "L&TFH\n",
            "53\n",
            "LUPIN\n",
            "54\n",
            "M&M\n",
            "55\n",
            "GLENMARK\n",
            "56\n",
            "MARICO\n",
            "57\n",
            "MCDOWELL-N\n",
            "58\n",
            "MCX\n",
            "59\n",
            "MOTHERSUMI\n",
            "60\n",
            "MRF\n",
            "61\n",
            "MUTHOOTFIN\n",
            "62\n",
            "NATIONALUM\n",
            "63\n",
            "NCC\n",
            "64\n",
            "ICICIPRULI\n",
            "65\n",
            "NESTLEIND\n",
            "66\n",
            "NTPC\n",
            "67\n",
            "ONGC\n",
            "68\n",
            "PAGEIND\n",
            "69\n"
          ]
        },
        {
          "output_type": "error",
          "ename": "KeyError",
          "evalue": "ignored",
          "traceback": [
            "\u001b[0;31m---------------------------------------------------------------------------\u001b[0m",
            "\u001b[0;31mKeyError\u001b[0m                                  Traceback (most recent call last)",
            "\u001b[0;32m<ipython-input-48-b1ace3d73efe>\u001b[0m in \u001b[0;36m<module>\u001b[0;34m()\u001b[0m\n\u001b[1;32m     14\u001b[0m     \u001b[0mstring\u001b[0m \u001b[0;34m=\u001b[0m \u001b[0ma\u001b[0m\u001b[0;34m\u001b[0m\u001b[0;34m\u001b[0m\u001b[0m\n\u001b[1;32m     15\u001b[0m     df = stock_df(symbol=a, from_date=date(2020,6,4),\n\u001b[0;32m---> 16\u001b[0;31m             to_date=date(2020,10,7), series=\"EQ\")\n\u001b[0m\u001b[1;32m     17\u001b[0m     \u001b[0mtime\u001b[0m\u001b[0;34m.\u001b[0m\u001b[0msleep\u001b[0m\u001b[0;34m(\u001b[0m\u001b[0;36m1\u001b[0m\u001b[0;34m)\u001b[0m\u001b[0;34m\u001b[0m\u001b[0;34m\u001b[0m\u001b[0m\n\u001b[1;32m     18\u001b[0m     \u001b[0mprint\u001b[0m\u001b[0;34m(\u001b[0m\u001b[0ma\u001b[0m\u001b[0;34m)\u001b[0m\u001b[0;34m\u001b[0m\u001b[0;34m\u001b[0m\u001b[0m\n",
            "\u001b[0;32m/usr/local/lib/python3.7/dist-packages/jugaad_data/nse/history.py\u001b[0m in \u001b[0;36mstock_df\u001b[0;34m(symbol, from_date, to_date, series)\u001b[0m\n\u001b[1;32m    169\u001b[0m         \u001b[0;32mraise\u001b[0m \u001b[0mModuleNotFoundError\u001b[0m\u001b[0;34m(\u001b[0m\u001b[0;34m\"Please install pandas using \\n pip install pandas\"\u001b[0m\u001b[0;34m)\u001b[0m\u001b[0;34m\u001b[0m\u001b[0;34m\u001b[0m\u001b[0m\n\u001b[1;32m    170\u001b[0m     \u001b[0mraw\u001b[0m \u001b[0;34m=\u001b[0m \u001b[0mstock_raw\u001b[0m\u001b[0;34m(\u001b[0m\u001b[0msymbol\u001b[0m\u001b[0;34m,\u001b[0m \u001b[0mfrom_date\u001b[0m\u001b[0;34m,\u001b[0m \u001b[0mto_date\u001b[0m\u001b[0;34m,\u001b[0m \u001b[0mseries\u001b[0m\u001b[0;34m)\u001b[0m\u001b[0;34m\u001b[0m\u001b[0;34m\u001b[0m\u001b[0m\n\u001b[0;32m--> 171\u001b[0;31m     \u001b[0mdf\u001b[0m \u001b[0;34m=\u001b[0m \u001b[0mpd\u001b[0m\u001b[0;34m.\u001b[0m\u001b[0mDataFrame\u001b[0m\u001b[0;34m(\u001b[0m\u001b[0mraw\u001b[0m\u001b[0;34m)\u001b[0m\u001b[0;34m[\u001b[0m\u001b[0mstock_select_headers\u001b[0m\u001b[0;34m]\u001b[0m\u001b[0;34m\u001b[0m\u001b[0;34m\u001b[0m\u001b[0m\n\u001b[0m\u001b[1;32m    172\u001b[0m     \u001b[0mdf\u001b[0m\u001b[0;34m.\u001b[0m\u001b[0mcolumns\u001b[0m \u001b[0;34m=\u001b[0m \u001b[0mstock_final_headers\u001b[0m\u001b[0;34m\u001b[0m\u001b[0;34m\u001b[0m\u001b[0m\n\u001b[1;32m    173\u001b[0m     \u001b[0;32mfor\u001b[0m \u001b[0mi\u001b[0m\u001b[0;34m,\u001b[0m \u001b[0mh\u001b[0m \u001b[0;32min\u001b[0m \u001b[0menumerate\u001b[0m\u001b[0;34m(\u001b[0m\u001b[0mstock_final_headers\u001b[0m\u001b[0;34m)\u001b[0m\u001b[0;34m:\u001b[0m\u001b[0;34m\u001b[0m\u001b[0;34m\u001b[0m\u001b[0m\n",
            "\u001b[0;32m/usr/local/lib/python3.7/dist-packages/pandas/core/frame.py\u001b[0m in \u001b[0;36m__getitem__\u001b[0;34m(self, key)\u001b[0m\n\u001b[1;32m   2910\u001b[0m             \u001b[0;32mif\u001b[0m \u001b[0mis_iterator\u001b[0m\u001b[0;34m(\u001b[0m\u001b[0mkey\u001b[0m\u001b[0;34m)\u001b[0m\u001b[0;34m:\u001b[0m\u001b[0;34m\u001b[0m\u001b[0;34m\u001b[0m\u001b[0m\n\u001b[1;32m   2911\u001b[0m                 \u001b[0mkey\u001b[0m \u001b[0;34m=\u001b[0m \u001b[0mlist\u001b[0m\u001b[0;34m(\u001b[0m\u001b[0mkey\u001b[0m\u001b[0;34m)\u001b[0m\u001b[0;34m\u001b[0m\u001b[0;34m\u001b[0m\u001b[0m\n\u001b[0;32m-> 2912\u001b[0;31m             \u001b[0mindexer\u001b[0m \u001b[0;34m=\u001b[0m \u001b[0mself\u001b[0m\u001b[0;34m.\u001b[0m\u001b[0mloc\u001b[0m\u001b[0;34m.\u001b[0m\u001b[0m_get_listlike_indexer\u001b[0m\u001b[0;34m(\u001b[0m\u001b[0mkey\u001b[0m\u001b[0;34m,\u001b[0m \u001b[0maxis\u001b[0m\u001b[0;34m=\u001b[0m\u001b[0;36m1\u001b[0m\u001b[0;34m,\u001b[0m \u001b[0mraise_missing\u001b[0m\u001b[0;34m=\u001b[0m\u001b[0;32mTrue\u001b[0m\u001b[0;34m)\u001b[0m\u001b[0;34m[\u001b[0m\u001b[0;36m1\u001b[0m\u001b[0;34m]\u001b[0m\u001b[0;34m\u001b[0m\u001b[0;34m\u001b[0m\u001b[0m\n\u001b[0m\u001b[1;32m   2913\u001b[0m \u001b[0;34m\u001b[0m\u001b[0m\n\u001b[1;32m   2914\u001b[0m         \u001b[0;31m# take() does not accept boolean indexers\u001b[0m\u001b[0;34m\u001b[0m\u001b[0;34m\u001b[0m\u001b[0;34m\u001b[0m\u001b[0m\n",
            "\u001b[0;32m/usr/local/lib/python3.7/dist-packages/pandas/core/indexing.py\u001b[0m in \u001b[0;36m_get_listlike_indexer\u001b[0;34m(self, key, axis, raise_missing)\u001b[0m\n\u001b[1;32m   1252\u001b[0m             \u001b[0mkeyarr\u001b[0m\u001b[0;34m,\u001b[0m \u001b[0mindexer\u001b[0m\u001b[0;34m,\u001b[0m \u001b[0mnew_indexer\u001b[0m \u001b[0;34m=\u001b[0m \u001b[0max\u001b[0m\u001b[0;34m.\u001b[0m\u001b[0m_reindex_non_unique\u001b[0m\u001b[0;34m(\u001b[0m\u001b[0mkeyarr\u001b[0m\u001b[0;34m)\u001b[0m\u001b[0;34m\u001b[0m\u001b[0;34m\u001b[0m\u001b[0m\n\u001b[1;32m   1253\u001b[0m \u001b[0;34m\u001b[0m\u001b[0m\n\u001b[0;32m-> 1254\u001b[0;31m         \u001b[0mself\u001b[0m\u001b[0;34m.\u001b[0m\u001b[0m_validate_read_indexer\u001b[0m\u001b[0;34m(\u001b[0m\u001b[0mkeyarr\u001b[0m\u001b[0;34m,\u001b[0m \u001b[0mindexer\u001b[0m\u001b[0;34m,\u001b[0m \u001b[0maxis\u001b[0m\u001b[0;34m,\u001b[0m \u001b[0mraise_missing\u001b[0m\u001b[0;34m=\u001b[0m\u001b[0mraise_missing\u001b[0m\u001b[0;34m)\u001b[0m\u001b[0;34m\u001b[0m\u001b[0;34m\u001b[0m\u001b[0m\n\u001b[0m\u001b[1;32m   1255\u001b[0m         \u001b[0;32mreturn\u001b[0m \u001b[0mkeyarr\u001b[0m\u001b[0;34m,\u001b[0m \u001b[0mindexer\u001b[0m\u001b[0;34m\u001b[0m\u001b[0;34m\u001b[0m\u001b[0m\n\u001b[1;32m   1256\u001b[0m \u001b[0;34m\u001b[0m\u001b[0m\n",
            "\u001b[0;32m/usr/local/lib/python3.7/dist-packages/pandas/core/indexing.py\u001b[0m in \u001b[0;36m_validate_read_indexer\u001b[0;34m(self, key, indexer, axis, raise_missing)\u001b[0m\n\u001b[1;32m   1296\u001b[0m             \u001b[0;32mif\u001b[0m \u001b[0mmissing\u001b[0m \u001b[0;34m==\u001b[0m \u001b[0mlen\u001b[0m\u001b[0;34m(\u001b[0m\u001b[0mindexer\u001b[0m\u001b[0;34m)\u001b[0m\u001b[0;34m:\u001b[0m\u001b[0;34m\u001b[0m\u001b[0;34m\u001b[0m\u001b[0m\n\u001b[1;32m   1297\u001b[0m                 \u001b[0maxis_name\u001b[0m \u001b[0;34m=\u001b[0m \u001b[0mself\u001b[0m\u001b[0;34m.\u001b[0m\u001b[0mobj\u001b[0m\u001b[0;34m.\u001b[0m\u001b[0m_get_axis_name\u001b[0m\u001b[0;34m(\u001b[0m\u001b[0maxis\u001b[0m\u001b[0;34m)\u001b[0m\u001b[0;34m\u001b[0m\u001b[0;34m\u001b[0m\u001b[0m\n\u001b[0;32m-> 1298\u001b[0;31m                 \u001b[0;32mraise\u001b[0m \u001b[0mKeyError\u001b[0m\u001b[0;34m(\u001b[0m\u001b[0;34mf\"None of [{key}] are in the [{axis_name}]\"\u001b[0m\u001b[0;34m)\u001b[0m\u001b[0;34m\u001b[0m\u001b[0;34m\u001b[0m\u001b[0m\n\u001b[0m\u001b[1;32m   1299\u001b[0m \u001b[0;34m\u001b[0m\u001b[0m\n\u001b[1;32m   1300\u001b[0m             \u001b[0;31m# We (temporarily) allow for some missing keys with .loc, except in\u001b[0m\u001b[0;34m\u001b[0m\u001b[0;34m\u001b[0m\u001b[0;34m\u001b[0m\u001b[0m\n",
            "\u001b[0;31mKeyError\u001b[0m: \"None of [Index(['CH_TIMESTAMP', 'CH_SERIES', 'CH_OPENING_PRICE', 'CH_TRADE_HIGH_PRICE',\\n       'CH_TRADE_LOW_PRICE', 'CH_PREVIOUS_CLS_PRICE', 'CH_LAST_TRADED_PRICE',\\n       'CH_CLOSING_PRICE', 'VWAP', 'CH_52WEEK_HIGH_PRICE',\\n       'CH_52WEEK_LOW_PRICE', 'CH_TOT_TRADED_QTY', 'CH_TOT_TRADED_VAL',\\n       'CH_TOTAL_TRADES', 'CH_SYMBOL'],\\n      dtype='object')] are in the [columns]\""
          ]
        }
      ]
    },
    {
      "cell_type": "code",
      "metadata": {
        "id": "hE_cufQs7hV3"
      },
      "source": [
        "from datetime import date\n",
        "from jugaad_data.nse import stock_csv, stock_df\n",
        "\n",
        "# Download as pandas dataframe\n",
        "df = stock_df(symbol=\"SBIN\", from_date=date(2020,6,4),\n",
        "            to_date=date(2020,10,8), series=\"EQ\")\n",
        "print(df.head())\n",
        "print(df.columns)\n",
        "print(len(df.columns))\n",
        "print(df[\"CLOSE\"])\n",
        "print(df[\"DATE\"])\n",
        "close =df[\"CLOSE\"]\n",
        "date = df[\"DATE\"]"
      ],
      "execution_count": null,
      "outputs": []
    },
    {
      "cell_type": "code",
      "metadata": {
        "id": "xZ7I_pLeDkYR"
      },
      "source": [
        "df = df.drop(labels=['SERIES', 'OPEN', 'HIGH', 'LOW', 'PREV. CLOSE', 'LTP',\n",
        "       'VWAP', '52W H', '52W L', 'VOLUME', 'VALUE', 'NO OF TRADES', 'SYMBOL'], axis=1)\n",
        "df"
      ],
      "execution_count": null,
      "outputs": []
    },
    {
      "cell_type": "code",
      "metadata": {
        "id": "0NR9EsGmEngf"
      },
      "source": [
        "stonks = df"
      ],
      "execution_count": null,
      "outputs": []
    },
    {
      "cell_type": "code",
      "metadata": {
        "id": "-cN51a0n82Xf"
      },
      "source": [
        "writer = pd.ExcelWriter('pandas_simple.xlsx', engine='xlsxwriter',date_format='mmmm dd yyyy')\n",
        "stonks.to_excel(writer, sheet_name='Sheet1')\n",
        "writer.save()"
      ],
      "execution_count": null,
      "outputs": []
    },
    {
      "cell_type": "code",
      "metadata": {
        "id": "XbfZWkDgAANA"
      },
      "source": [
        "%%time\n",
        "import time\n",
        "time.sleep(3)"
      ],
      "execution_count": null,
      "outputs": []
    },
    {
      "cell_type": "code",
      "metadata": {
        "id": "Vd61tHaM9My9"
      },
      "source": [
        ""
      ],
      "execution_count": null,
      "outputs": []
    }
  ]
}